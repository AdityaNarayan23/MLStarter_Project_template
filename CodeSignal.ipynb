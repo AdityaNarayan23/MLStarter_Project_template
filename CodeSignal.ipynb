{
 "cells": [
  {
   "cell_type": "code",
   "execution_count": 59,
   "metadata": {},
   "outputs": [
    {
     "name": "stdout",
     "output_type": "stream",
     "text": [
      "()\n",
      "[True, False]\n"
     ]
    }
   ],
   "source": [
    "xs = [()]\n",
    "res = [False]*2\n",
    "if xs:\n",
    "    res[0] = True\n",
    "if xs[0]:\n",
    "    res[1] = True\n",
    "    \n",
    "print(res)"
   ]
  },
  {
   "cell_type": "code",
   "execution_count": null,
   "metadata": {},
   "outputs": [],
   "source": [
    "#check which one is more efficient:\n",
    "#x,y,L,R are 4 integers, check whether x^y is in betweeen (L,r]\n",
    "if L < x**y <=R:  # this is most efficient\n",
    "if x**y > L and x**y <=R:\n",
    "if x**y in range(L+1,R+1):\n"
   ]
  },
  {
   "cell_type": "code",
   "execution_count": 61,
   "metadata": {},
   "outputs": [
    {
     "name": "stdout",
     "output_type": "stream",
     "text": [
      "True\n",
      "True\n",
      "True\n"
     ]
    }
   ],
   "source": [
    "a=True\n",
    "b=False\n",
    "print(a == (not b))\n",
    "#print(a == not b)\n",
    "print(not a == b)\n",
    "print(not (a == b))"
   ]
  },
  {
   "cell_type": "code",
   "execution_count": 64,
   "metadata": {},
   "outputs": [
    {
     "name": "stdout",
     "output_type": "stream",
     "text": [
      "3\n",
      "-4\n",
      "1\n",
      "-4\n",
      "0\n"
     ]
    }
   ],
   "source": [
    "def division(x,y):\n",
    "    return x//y   #integer division\n",
    "print(division(-10,-3))\n",
    "print(division(15,-4))  # in python the integer division rounds up to the floor value (floor value of -375 is -4)\n",
    "print(division(17,13))\n",
    "print(division(-8,2))\n",
    "print(division(5,10))"
   ]
  },
  {
   "cell_type": "code",
   "execution_count": 66,
   "metadata": {},
   "outputs": [
    {
     "name": "stdout",
     "output_type": "stream",
     "text": [
      "6\n"
     ]
    }
   ],
   "source": [
    "#Counts Bits for the binary representation of decimal number\n",
    "def countBits(n):\n",
    "    return n.bit_length()\n",
    "\n",
    "print(countBits(50))"
   ]
  },
  {
   "cell_type": "code",
   "execution_count": 68,
   "metadata": {},
   "outputs": [
    {
     "name": "stdout",
     "output_type": "stream",
     "text": [
      "1\n",
      "-1\n"
     ]
    }
   ],
   "source": [
    "def modulus(n):\n",
    "    if isinstance(n, int):\n",
    "        return n % 2\n",
    "    else:\n",
    "        return -1\n",
    "    \n",
    "print(modulus(23))\n",
    "print(modulus(2.4))"
   ]
  },
  {
   "cell_type": "code",
   "execution_count": 231,
   "metadata": {},
   "outputs": [
    {
     "name": "stdout",
     "output_type": "stream",
     "text": [
      "[1, 1, 2, 2, 3, 4, 5, 7]\n"
     ]
    }
   ],
   "source": [
    "def simplesort(arr):\n",
    "    n = len(arr)\n",
    "    for i in range(n):\n",
    "        j = 0\n",
    "        stop = n - i\n",
    "        while j < stop -1:\n",
    "            if arr[j] > arr[j+1]:\n",
    "                arr[j],arr[j+1] = arr[j+1],arr[j]\n",
    "            j+=1\n",
    "    return arr\n",
    "\n",
    "arr = [1,2,3,4,5,2,7,1]\n",
    "print(simplesort(arr))"
   ]
  },
  {
   "cell_type": "code",
   "execution_count": 81,
   "metadata": {},
   "outputs": [
    {
     "name": "stdout",
     "output_type": "stream",
     "text": [
      "ca\n"
     ]
    }
   ],
   "source": [
    "def baseConversion(n,x):\n",
    "    return hex(int(n,x))[2:]\n",
    "\n",
    "print(baseConversion(\"1302\",5))"
   ]
  },
  {
   "cell_type": "code",
   "execution_count": 85,
   "metadata": {},
   "outputs": [
    {
     "name": "stdout",
     "output_type": "stream",
     "text": [
      "3\n"
     ]
    }
   ],
   "source": [
    "def mexFunction(s, upperBound):\n",
    "    found = -1\n",
    "    for i in range(upperBound):\n",
    "        if not i in s:\n",
    "            found = i\n",
    "            break\n",
    "    else:\n",
    "        found = upperBound\n",
    "    \n",
    "    return found\n",
    "\n",
    "print(mexFunction([0,1,2,3,4,6,7],3))"
   ]
  },
  {
   "cell_type": "code",
   "execution_count": 91,
   "metadata": {},
   "outputs": [
    {
     "name": "stdout",
     "output_type": "stream",
     "text": [
      "[2, 3, 4, 5, 2]\n",
      "[]\n",
      "[3]\n"
     ]
    }
   ],
   "source": [
    "def listBeautifier(a):\n",
    "    res = a[:]\n",
    "    while res and res[0] != res[-1]:\n",
    "        a,*res,b = res\n",
    "    return res\n",
    "\n",
    "print(listBeautifier([1,2,3,4,5,2,3]))\n",
    "print(listBeautifier([1,2,3,4,5,2]))\n",
    "print(listBeautifier([1,2,3,4,5]))\n"
   ]
  },
  {
   "cell_type": "code",
   "execution_count": null,
   "metadata": {},
   "outputs": [],
   "source": [
    "s = 'abc'\n",
    "s = \"abc\"\n",
    "s = '''abc'''\n",
    "s = \"\"\"abc\"\"\"\n",
    "s = ''abc'' - wrong notation\n",
    "s = \"\"abc\"\" - wrong notation"
   ]
  },
  {
   "cell_type": "code",
   "execution_count": 95,
   "metadata": {},
   "outputs": [
    {
     "name": "stdout",
     "output_type": "stream",
     "text": [
      "You will never believe\n"
     ]
    }
   ],
   "source": [
    "def fixMessage(message):\n",
    "    return message.capitalize()\n",
    "\n",
    "message = \"You will never BELIEVE\"\n",
    "print(fixMessage(message))"
   ]
  },
  {
   "cell_type": "code",
   "execution_count": 103,
   "metadata": {},
   "outputs": [
    {
     "name": "stdout",
     "output_type": "stream",
     "text": [
      "I am Aditya Naraya n !!!!!\n"
     ]
    }
   ],
   "source": [
    "def catWalk(code):\n",
    "    return ' '.join(code.split())\n",
    "\n",
    "print(catWalk(\"I am       Aditya Naraya    n !!!!!\"))"
   ]
  },
  {
   "cell_type": "code",
   "execution_count": 105,
   "metadata": {},
   "outputs": [
    {
     "name": "stdout",
     "output_type": "stream",
     "text": [
      "            return False\n"
     ]
    }
   ],
   "source": [
    "def convertTabs(code,x):\n",
    "    return code.replace(\"\\t\",' '*x)\n",
    "\n",
    "print(convertTabs(\"\\treturn False\",12))"
   ]
  },
  {
   "cell_type": "code",
   "execution_count": 108,
   "metadata": {},
   "outputs": [
    {
     "name": "stdout",
     "output_type": "stream",
     "text": [
      "['Hel', 'lo!', 'My ', 'nam', 'e', 'is ', 'Adi', 'tya', 'Nar', 'aya', 'n']\n"
     ]
    }
   ],
   "source": [
    "import textwrap\n",
    "\n",
    "def feedbackReview(feedback, size):\n",
    "    return textwrap.wrap(feedback, size)\n",
    "\n",
    "print(feedbackReview(\"Hello! My name is Aditya Narayan\",3))"
   ]
  },
  {
   "cell_type": "code",
   "execution_count": 113,
   "metadata": {},
   "outputs": [
    {
     "name": "stdout",
     "output_type": "stream",
     "text": [
      "True\n"
     ]
    }
   ],
   "source": [
    "def checkPalindrome(inputString):\n",
    "    return inputString == inputString[::-1]\n",
    "\n",
    "print(checkPalindrome(\"malayalam\"))"
   ]
  },
  {
   "cell_type": "code",
   "execution_count": 115,
   "metadata": {},
   "outputs": [
    {
     "name": "stdout",
     "output_type": "stream",
     "text": [
      "-12\n"
     ]
    }
   ],
   "source": [
    "def adjacentElementsProduct(inputArray):    \n",
    "    length = len(inputArray) \n",
    "    sum_list = []\n",
    "    for i in range(length-1):    \n",
    "        sum_list.append(inputArray[i] * inputArray[i+1])        \n",
    "    return max(sum_list)\n",
    "\n",
    "print(adjacentElementsProduct([-23, 4, -3, 8, -12]))"
   ]
  },
  {
   "cell_type": "code",
   "execution_count": 116,
   "metadata": {},
   "outputs": [
    {
     "name": "stdout",
     "output_type": "stream",
     "text": [
      "hzlsgdadrs\n"
     ]
    }
   ],
   "source": [
    "def permutationCipher(password, key):\n",
    "    table = {ord('a')+i : ord(k) for i,k in enumerate(key)}\n",
    "    return password.translate(table)\n",
    "\n",
    "password = \"iamthebest\"\n",
    "key = \"zabcdefghijklmnopqrstuvwxy\"\n",
    "\n",
    "print(permutationCipher(password,key))"
   ]
  },
  {
   "cell_type": "code",
   "execution_count": 125,
   "metadata": {},
   "outputs": [
    {
     "name": "stdout",
     "output_type": "stream",
     "text": [
      "'   3.14   '\n"
     ]
    }
   ],
   "source": [
    "def competitiveEating(t,width,precision):\n",
    "    return \"'{:^{}.{}f}'\".format(t,width,precision)\n",
    "\n",
    "t = 3.1415\n",
    "width = 10\n",
    "precision = 2\n",
    "\n",
    "print(competitiveEating(t,width,precision))"
   ]
  },
  {
   "cell_type": "code",
   "execution_count": 128,
   "metadata": {},
   "outputs": [
    {
     "name": "stdout",
     "output_type": "stream",
     "text": [
      "we expect the {}% growth this week.\n"
     ]
    }
   ],
   "source": [
    "import re\n",
    "\n",
    "def newStyleFormatting(s):\n",
    "        s = re.sub('%%','{%}',s)\n",
    "        s = re.sub('%[dfgexXocbs]','{}',s)\n",
    "        return re.sub('{%}','%',s)\n",
    "    \n",
    "s = \"we expect the %f%% growth this week.\"\n",
    "print(newStyleFormatting(s))"
   ]
  },
  {
   "cell_type": "code",
   "execution_count": 129,
   "metadata": {},
   "outputs": [
    {
     "name": "stdout",
     "output_type": "stream",
     "text": [
      "someCommIdshSSt\n"
     ]
    }
   ],
   "source": [
    "def getCommit(commit):\n",
    "    return ''.join([i for i in commit if i not in ['0','?','+','!']])\n",
    "\n",
    "commit = \"0??+0+!!someCommIdshSSt\"\n",
    "print(getCommit(commit))"
   ]
  },
  {
   "cell_type": "code",
   "execution_count": 134,
   "metadata": {},
   "outputs": [
    {
     "name": "stdout",
     "output_type": "stream",
     "text": [
      "14\n",
      "[ 6 12 18]\n"
     ]
    }
   ],
   "source": [
    "import numpy as np\n",
    "a = [1,2,3]\n",
    "b = [1,2,3]\n",
    "print(np.dot(a,b)) # (1*1+2*2+3*3) = 14\n",
    "c = [[1,2,3],[1,2,3],[1,2,3]]\n",
    "print(np.dot(a,c)) # (1X3 * 3X3 = 1X3)"
   ]
  },
  {
   "cell_type": "code",
   "execution_count": 144,
   "metadata": {},
   "outputs": [
    {
     "name": "stdout",
     "output_type": "stream",
     "text": [
      "[1, 2, 3, 4, 5, 6]\n"
     ]
    }
   ],
   "source": [
    "def listConcatenation(lst1,lst2):\n",
    "    res = lst1\n",
    "    #res.append(lst2)\n",
    "    res.extend(lst2)\n",
    "    return res\n",
    "lst1 = [1,2,3]\n",
    "lst2 = [4,5,6]\n",
    "print(listConcatenation(lst1,lst2))"
   ]
  },
  {
   "cell_type": "code",
   "execution_count": 145,
   "metadata": {},
   "outputs": [
    {
     "name": "stdout",
     "output_type": "stream",
     "text": [
      "11\n"
     ]
    }
   ],
   "source": [
    "def twoTeam(students):\n",
    "    return (sum(students[::2]) - sum(students[1::2]))\n",
    "\n",
    "students = [1,11,13,6,14]\n",
    "print(twoTeam(students))"
   ]
  },
  {
   "cell_type": "code",
   "execution_count": 148,
   "metadata": {},
   "outputs": [
    {
     "name": "stdout",
     "output_type": "stream",
     "text": [
      "[1, 2, 4, 5]\n"
     ]
    }
   ],
   "source": [
    "def removeTasks(k, toDo):\n",
    "    del toDo[k-1::k]\n",
    "    return toDo\n",
    "\n",
    "k = 3\n",
    "toDo = [1,2,3,4,5,6]\n",
    "print(removeTasks(k,toDo))"
   ]
  },
  {
   "cell_type": "code",
   "execution_count": 155,
   "metadata": {},
   "outputs": [
    {
     "name": "stdout",
     "output_type": "stream",
     "text": [
      "This is your list: [3, 4][5, 6]\n"
     ]
    }
   ],
   "source": [
    "def printList(lst,lst1,lst2):\n",
    "    return \"This is your list: {1}{2}\".format(lst,lst1,lst2)\n",
    "\n",
    "lst = [1,2]\n",
    "lst1 = [3,4]\n",
    "lst2 = [5,6]\n",
    "print(printList(lst,lst1,lst2))"
   ]
  },
  {
   "cell_type": "code",
   "execution_count": 160,
   "metadata": {},
   "outputs": [
    {
     "name": "stdout",
     "output_type": "stream",
     "text": [
      "******************************\n",
      "!!!!!!!!!!!!!!!!!!!!!!!!!!!!!!\n",
      "##############################\n"
     ]
    }
   ],
   "source": [
    "ch = '*'\n",
    "lh = '!'\n",
    "kh = '#'\n",
    "n = 30\n",
    "repeatChar = lambda ch,n: ch*n\n",
    "print(repeatChar(ch,n))\n",
    "print(repeatChar(lh,n))\n",
    "print(repeatChar(kh,n))"
   ]
  },
  {
   "cell_type": "code",
   "execution_count": 166,
   "metadata": {},
   "outputs": [
    {
     "name": "stdout",
     "output_type": "stream",
     "text": [
      "5\n"
     ]
    }
   ],
   "source": [
    "def getPoints(answers, p):\n",
    "    questionPoints = lambda i, ans: i+1 if ans else -p\n",
    "    res = 0\n",
    "    for i, ans in enumerate(answers):\n",
    "        res += questionPoints(i,ans)\n",
    "    return res\n",
    "\n",
    "answers = [True,True,False,True]\n",
    "p = 2\n",
    "print(getPoints(answers, p))"
   ]
  },
  {
   "cell_type": "code",
   "execution_count": 167,
   "metadata": {},
   "outputs": [
    {
     "name": "stdout",
     "output_type": "stream",
     "text": [
      "['Amit Anand', 'Urja Gandhi', 'Abhinav Kumar', 'Aditya Narayan']\n"
     ]
    }
   ],
   "source": [
    "def sortStudents(students):\n",
    "    students.sort(key = lambda name: name.split(\" \")[-1])\n",
    "    return students\n",
    "\n",
    "students = ['Aditya Narayan','Amit Anand', 'Abhinav Kumar', 'Urja Gandhi']\n",
    "print(sortStudents(students))"
   ]
  },
  {
   "cell_type": "code",
   "execution_count": 174,
   "metadata": {},
   "outputs": [
    {
     "name": "stdout",
     "output_type": "stream",
     "text": [
      "True\n"
     ]
    }
   ],
   "source": [
    "def isTestSolvable(ids, k):\n",
    "    digitSum = lambda qid: sum(int(x) for x in str(qid))\n",
    "    \n",
    "    sm = 0\n",
    "    for questionId in ids:\n",
    "        sm += digitSum(questionId)\n",
    "    return sm % k == 0\n",
    "\n",
    "ids = [529665, 909767, 644200]\n",
    "k = 3\n",
    "print(isTestSolvable(ids,k))"
   ]
  },
  {
   "cell_type": "code",
   "execution_count": 188,
   "metadata": {},
   "outputs": [
    {
     "ename": "IndexError",
     "evalue": "list index out of range",
     "output_type": "error",
     "traceback": [
      "\u001b[1;31m---------------------------------------------------------------------------\u001b[0m",
      "\u001b[1;31mIndexError\u001b[0m                                Traceback (most recent call last)",
      "\u001b[1;32m<ipython-input-188-f6335e6c42b2>\u001b[0m in \u001b[0;36m<module>\u001b[1;34m\u001b[0m\n\u001b[0;32m     18\u001b[0m     \u001b[1;32mreturn\u001b[0m \u001b[0mres\u001b[0m\u001b[1;33m\u001b[0m\u001b[1;33m\u001b[0m\u001b[0m\n\u001b[0;32m     19\u001b[0m \u001b[1;33m\u001b[0m\u001b[0m\n\u001b[1;32m---> 20\u001b[1;33m \u001b[0mprint\u001b[0m\u001b[1;33m(\u001b[0m\u001b[0mcreateSpiralMatrix\u001b[0m\u001b[1;33m(\u001b[0m\u001b[1;36m3\u001b[0m\u001b[1;33m)\u001b[0m\u001b[1;33m)\u001b[0m\u001b[1;33m\u001b[0m\u001b[1;33m\u001b[0m\u001b[0m\n\u001b[0m",
      "\u001b[1;32m<ipython-input-188-f6335e6c42b2>\u001b[0m in \u001b[0;36mcreateSpiralMatrix\u001b[1;34m(n)\u001b[0m\n\u001b[0;32m      6\u001b[0m \u001b[1;33m\u001b[0m\u001b[0m\n\u001b[0;32m      7\u001b[0m     \u001b[1;32mfor\u001b[0m \u001b[0mi\u001b[0m \u001b[1;32min\u001b[0m \u001b[0mrange\u001b[0m\u001b[1;33m(\u001b[0m\u001b[1;36m1\u001b[0m\u001b[1;33m,\u001b[0m\u001b[0mn\u001b[0m \u001b[1;33m*\u001b[0m \u001b[0mn\u001b[0m \u001b[1;33m+\u001b[0m\u001b[1;36m1\u001b[0m\u001b[1;33m)\u001b[0m\u001b[1;33m:\u001b[0m\u001b[1;33m\u001b[0m\u001b[1;33m\u001b[0m\u001b[0m\n\u001b[1;32m----> 8\u001b[1;33m         \u001b[0mres\u001b[0m\u001b[1;33m[\u001b[0m\u001b[0mcurPos\u001b[0m\u001b[1;33m[\u001b[0m\u001b[1;36m0\u001b[0m\u001b[1;33m]\u001b[0m\u001b[1;33m]\u001b[0m\u001b[1;33m[\u001b[0m\u001b[0mcurPos\u001b[0m\u001b[1;33m[\u001b[0m\u001b[1;36m1\u001b[0m\u001b[1;33m]\u001b[0m\u001b[1;33m]\u001b[0m \u001b[1;33m=\u001b[0m \u001b[0mi\u001b[0m\u001b[1;33m\u001b[0m\u001b[1;33m\u001b[0m\u001b[0m\n\u001b[0m\u001b[0;32m      9\u001b[0m         \u001b[0mnextPos\u001b[0m \u001b[1;33m=\u001b[0m \u001b[0mcurPos\u001b[0m\u001b[1;33m[\u001b[0m\u001b[1;36m0\u001b[0m\u001b[1;33m]\u001b[0m \u001b[1;33m+\u001b[0m \u001b[0mdirs\u001b[0m\u001b[1;33m[\u001b[0m\u001b[0mcurDir\u001b[0m\u001b[1;33m]\u001b[0m\u001b[1;33m[\u001b[0m\u001b[1;36m0\u001b[0m\u001b[1;33m]\u001b[0m\u001b[1;33m,\u001b[0m \u001b[0mcurPos\u001b[0m\u001b[1;33m[\u001b[0m\u001b[1;36m1\u001b[0m\u001b[1;33m]\u001b[0m \u001b[1;33m+\u001b[0m \u001b[0mdirs\u001b[0m\u001b[1;33m[\u001b[0m\u001b[0mcurDir\u001b[0m\u001b[1;33m]\u001b[0m\u001b[1;33m[\u001b[0m\u001b[1;36m1\u001b[0m\u001b[1;33m]\u001b[0m\u001b[1;33m\u001b[0m\u001b[1;33m\u001b[0m\u001b[0m\n\u001b[0;32m     10\u001b[0m         if not (0 <= nextPos[0] < n and \n",
      "\u001b[1;31mIndexError\u001b[0m: list index out of range"
     ]
    }
   ],
   "source": [
    "def createSpiralMatrix(n):\n",
    "    dirs = [(-1,0),(0,-1),(1,0),(0,1)]\n",
    "    curDir = 0\n",
    "    curPos = (n-1,n-1)\n",
    "    res = [[0 for x in range(n)] for y in range(n)]\n",
    "    \n",
    "    for i in range(1,n * n +1):\n",
    "        res[curPos[0]][curPos[1]] = i\n",
    "        nextPos = curPos[0] + dirs[curDir][0], curPos[1] + dirs[curDir][1]\n",
    "        if not (0 <= nextPos[0] < n and \n",
    "                0 <= nextPos[1] > n and\n",
    "                res[nextPos[0]][nextPos[1]] == 0):\n",
    "            curDir = (curDir + 1) % 4\n",
    "            nextPos = curPos[0] + dirs[curDir][0], curPos[1] + dirs[curDir][1]\n",
    "            \n",
    "        curPos = nextPos\n",
    "        \n",
    "    return res\n",
    "\n",
    "print(createSpiralMatrix(3))"
   ]
  },
  {
   "cell_type": "code",
   "execution_count": 183,
   "metadata": {},
   "outputs": [
    {
     "name": "stdout",
     "output_type": "stream",
     "text": [
      "[[0, 0, 0, 0, 0], [0, 0, 0, 0, 0], [0, 0, 0, 0, 0], [0, 0, 0, 0, 0], [0, 0, 0, 0, 0]]\n"
     ]
    }
   ],
   "source": [
    "res = [[0 for x in range(5)] for y in range(5)]\n",
    "print(res)"
   ]
  },
  {
   "cell_type": "code",
   "execution_count": 189,
   "metadata": {},
   "outputs": [
    {
     "name": "stdout",
     "output_type": "stream",
     "text": [
      "[[0], [0, 0], [0, 0, 0], [0, 0, 0, 0], [0, 0, 0, 0, 0], [0, 0, 0, 0], [0, 0, 0], [0, 0], [0]]\n"
     ]
    }
   ],
   "source": [
    "def constructShell(n):\n",
    "    return [[0]*min(x,2*n -x) for x in range(1,2*n)]\n",
    "\n",
    "print(constructShell(5))"
   ]
  },
  {
   "cell_type": "code",
   "execution_count": 191,
   "metadata": {},
   "outputs": [
    {
     "name": "stdout",
     "output_type": "stream",
     "text": [
      "52\n"
     ]
    }
   ],
   "source": [
    "def wordPower(word):\n",
    "    num = {w: ord(w)-96 for w in word}\n",
    "    return sum(num[ch] for ch in word)\n",
    "\n",
    "word = \"hello\"\n",
    "print(wordPower(word))"
   ]
  },
  {
   "cell_type": "code",
   "execution_count": 194,
   "metadata": {},
   "outputs": [
    {
     "name": "stdout",
     "output_type": "stream",
     "text": [
      "{'h': 8, 'e': 5, 'l': 12, 'o': 15}\n"
     ]
    }
   ],
   "source": [
    "print({w: ord(w)-96 for w in word})"
   ]
  },
  {
   "cell_type": "code",
   "execution_count": 198,
   "metadata": {},
   "outputs": [
    {
     "name": "stdout",
     "output_type": "stream",
     "text": [
      "{16, 18}\n"
     ]
    }
   ],
   "source": [
    "def coolPairs(a,b):\n",
    "    uniqueSums = {x+y for x in a for y in b if (x*y)%(x+y) == 0}\n",
    "    return uniqueSums\n",
    "\n",
    "a = [4,5,6,7,8]\n",
    "b = [8,9,10,11,12]\n",
    "print(coolPairs(a,b))"
   ]
  },
  {
   "cell_type": "code",
   "execution_count": 201,
   "metadata": {},
   "outputs": [
    {
     "name": "stdout",
     "output_type": "stream",
     "text": [
      "[[1, 2, 3, 4, 5], [2, 4, 6, 8, 10], [3, 6, 9, 12, 15], [4, 8, 12, 16, 20], [5, 10, 15, 20, 25]]\n"
     ]
    }
   ],
   "source": [
    "def multiplicationTable(n):\n",
    "    return [[x*y for x in range(1,n+1)] for y in range(1,n+1)]\n",
    "\n",
    "print(multiplicationTable(5))"
   ]
  },
  {
   "cell_type": "code",
   "execution_count": 204,
   "metadata": {},
   "outputs": [
    {
     "name": "stdout",
     "output_type": "stream",
     "text": [
      "[('a', 'd'), ('b', 'e'), ('c', 'f')]\n"
     ]
    }
   ],
   "source": [
    "def chessTeams(s,c):\n",
    "    #return [[s[i],c[i]] for i in range(len(s))]\n",
    "    return list(zip(s,c))\n",
    "\n",
    "s = ['a','b','c']\n",
    "c = ['d','e','f']\n",
    "print(chessTeams(s,c))"
   ]
  },
  {
   "cell_type": "code",
   "execution_count": 205,
   "metadata": {},
   "outputs": [
    {
     "name": "stdout",
     "output_type": "stream",
     "text": [
      "[12, 2, 0]\n"
     ]
    }
   ],
   "source": [
    "def fixResults(result):\n",
    "    def fix(x):\n",
    "        return x // 10\n",
    "    return list(map(fix, result))\n",
    "\n",
    "print(fixResults([123,23,2]))"
   ]
  },
  {
   "cell_type": "code",
   "execution_count": 208,
   "metadata": {},
   "outputs": [
    {
     "name": "stdout",
     "output_type": "stream",
     "text": [
      "['Art']\n"
     ]
    }
   ],
   "source": [
    "def collegeCourses(x, courses):\n",
    "    def shouldConsider(course):\n",
    "        return len(course) != x\n",
    "    \n",
    "    return list(filter(shouldConsider, courses))\n",
    "\n",
    "courses = ['Art','Science','History']\n",
    "print(collegeCourses(7,courses))"
   ]
  },
  {
   "cell_type": "code",
   "execution_count": 209,
   "metadata": {},
   "outputs": [
    {
     "name": "stdout",
     "output_type": "stream",
     "text": [
      "['*', '**', '***', '****']\n"
     ]
    }
   ],
   "source": [
    "def createHistograms(ch, assignments):\n",
    "    return [ch*assignment for assignment in assignments]\n",
    "\n",
    "print(createHistograms('*',[1,2,3,4]))"
   ]
  },
  {
   "cell_type": "code",
   "execution_count": 212,
   "metadata": {},
   "outputs": [
    {
     "name": "stdout",
     "output_type": "stream",
     "text": [
      "60.0\n"
     ]
    },
    {
     "name": "stderr",
     "output_type": "stream",
     "text": [
      "C:\\Users\\anarayan\\Anaconda3\\lib\\site-packages\\ipykernel_launcher.py:5: DeprecationWarning: fractions.gcd() is deprecated. Use math.gcd() instead.\n",
      "  \"\"\"\n"
     ]
    }
   ],
   "source": [
    "from fractions import gcd\n",
    "import functools\n",
    "\n",
    "def leastCommonDenominator(denominators):\n",
    "    return functools.reduce(lambda x,y: x*y / gcd(x,y), denominators)\n",
    "\n",
    "print(leastCommonDenominator([2,3,4,5]))"
   ]
  },
  {
   "cell_type": "code",
   "execution_count": 29,
   "metadata": {},
   "outputs": [
    {
     "name": "stdout",
     "output_type": "stream",
     "text": [
      "1\n",
      "{1}\n",
      "2\n",
      "{1, 2}\n",
      "3\n",
      "{1, 2, 3}\n",
      "3\n",
      "3\n"
     ]
    }
   ],
   "source": [
    "def firstDuplicate(my_list):\n",
    "  nums_found = set()\n",
    "  for item in my_list:\n",
    "        print(item)\n",
    "        if item in nums_found:\n",
    "            return item\n",
    "        else:\n",
    "            nums_found.add(item)\n",
    "            print(nums_found)\n",
    "  return -1\n",
    "nums = [1,2,3,3,2,1]\n",
    "print(firstDuplicate(nums)) # 3"
   ]
  },
  {
   "cell_type": "code",
   "execution_count": 34,
   "metadata": {},
   "outputs": [
    {
     "name": "stdout",
     "output_type": "stream",
     "text": [
      "1\n",
      "1\n",
      "2\n",
      "2\n",
      "3\n",
      "3\n",
      "1\n",
      "-1\n",
      "1\n"
     ]
    }
   ],
   "source": [
    "def firstDuplicate(my_list):\n",
    "    for index in my_list:\n",
    "        print(index)\n",
    "        print(my_list[abs(index) - 1])\n",
    "        if(my_list[abs(index) - 1] < 0):\n",
    "            return abs(index)\n",
    "        else:\n",
    "            my_list[abs(index) - 1] = my_list[abs(index) - 1] * -1\n",
    "        \n",
    "    return -1\n",
    "nums = [1,2,3,1,2,1]\n",
    "print(firstDuplicate(nums)) # 3"
   ]
  },
  {
   "cell_type": "code",
   "execution_count": 38,
   "metadata": {},
   "outputs": [
    {
     "name": "stdout",
     "output_type": "stream",
     "text": [
      "c\n",
      "_\n"
     ]
    }
   ],
   "source": [
    "def firstNotRepeatingCharacter(s):\n",
    "    char_od = []\n",
    "    counts = {}\n",
    "    for c in s:\n",
    "        if c in counts:\n",
    "            counts[c]+=1\n",
    "        else:\n",
    "            counts[c] = 1    \n",
    "            char_od.append(c)\n",
    "    for c in char_od:\n",
    "        if counts[c] == 1:\n",
    "            return c\n",
    "    return '_'\n",
    "s = \"abacabad\"\n",
    "print(firstNotRepeatingCharacter(s))\n",
    "x = \"abacabaabacaba\"\n",
    "print(firstNotRepeatingCharacter(x))"
   ]
  },
  {
   "cell_type": "code",
   "execution_count": 46,
   "metadata": {},
   "outputs": [
    {
     "name": "stdout",
     "output_type": "stream",
     "text": [
      "[(7, 4, 1), (8, 5, 2), (9, 6, 3)]\n"
     ]
    }
   ],
   "source": [
    "a = [[1,2,3],[4,5,6],[7,8,9]]\n",
    "#output = [[7,4,1],[8,5,2],[9,6,3]]\n",
    "def rotateImage(a):\n",
    "    return list(zip(*a[::-1]))\n",
    "print(rotateImage(a))"
   ]
  },
  {
   "cell_type": "code",
   "execution_count": 48,
   "metadata": {},
   "outputs": [
    {
     "name": "stdout",
     "output_type": "stream",
     "text": [
      "True\n",
      "False\n"
     ]
    }
   ],
   "source": [
    "def sudoku2(grid):\n",
    "    for i in range(9):\n",
    "        row = {}\n",
    "        column = {}\n",
    "        block = {}\n",
    "        row_cube = 3 * (i//3)\n",
    "        column_cube = 3 * (i%3)\n",
    "        for j in range(9):\n",
    "            if grid[i][j]!='.' and grid[i][j] in row:\n",
    "                return False\n",
    "            row[grid[i][j]] = 1\n",
    "            if grid[j][i]!='.' and grid[j][i] in column:\n",
    "                return False\n",
    "            column[grid[j][i]] = 1\n",
    "            rc= row_cube+j//3\n",
    "            cc = column_cube + j%3\n",
    "            if grid[rc][cc] in block and grid[rc][cc]!='.':\n",
    "                return False\n",
    "            block[grid[rc][cc]]=1\n",
    "    return True\n",
    "\n",
    "grid1 = [['.', '.', '.', '1', '4', '.', '.', '2', '.'],\n",
    "        ['.', '.', '6', '.', '.', '.', '.', '.', '.'],\n",
    "        ['.', '.', '.', '.', '.', '.', '.', '.', '.'],\n",
    "        ['.', '.', '1', '.', '.', '.', '.', '.', '.'],\n",
    "        ['.', '6', '7', '.', '.', '.', '.', '.', '9'],\n",
    "        ['.', '.', '.', '.', '.', '.', '8', '1', '.'],\n",
    "        ['.', '3', '.', '.', '.', '.', '.', '.', '6'],\n",
    "        ['.', '.', '.', '.', '.', '7', '.', '.', '.'],\n",
    "        ['.', '.', '.', '5', '.', '.', '.', '7', '.']]\n",
    "print(sudoku2(grid1))\n",
    "\n",
    "grid2 = [['.', '.', '.', '.', '2', '.', '.', '9', '.'],\n",
    "        ['.', '.', '.', '.', '6', '.', '.', '.', '.'],\n",
    "        ['7', '1', '.', '.', '7', '5', '.', '.', '.'],\n",
    "        ['.', '7', '.', '.', '.', '.', '.', '.', '.'],\n",
    "        ['.', '.', '.', '.', '8', '3', '.', '.', '.'],\n",
    "        ['.', '.', '8', '.', '.', '7', '.', '6', '.'],\n",
    "        ['.', '.', '.', '.', '.', '2', '.', '.', '.'],\n",
    "        ['.', '1', '.', '2', '.', '.', '.', '.', '.'],\n",
    "        ['.', '2', '.', '.', '3', '.', '.', '.', '.']]\n",
    "\n",
    "print(sudoku2(grid2))"
   ]
  },
  {
   "cell_type": "code",
   "execution_count": 109,
   "metadata": {},
   "outputs": [
    {
     "name": "stdout",
     "output_type": "stream",
     "text": [
      "True\n"
     ]
    }
   ],
   "source": [
    "def isCryptSolution(crypt, solution):\n",
    "    newsol = list(zip(*reversed(solution)))\n",
    "    newstring1 = ''\n",
    "    total = 0\n",
    "    for word in range(len(crypt)-1):\n",
    "        subtotal, sol_total = 0, 0\n",
    "        newstring = ''\n",
    "        for char in crypt[word]:\n",
    "            idx = newsol[0].index(char)\n",
    "            newstring = newstring + newsol[1][idx]\n",
    "            subtotal = int(newstring)\n",
    "        total = total + subtotal\n",
    "    for char1 in crypt[-1]:\n",
    "        nidx = newsol[0].index(char1)\n",
    "        newstring1 = newstring1 + newsol[1][nidx]\n",
    "        sol_total = int(newstring1)\n",
    "    if total == sol_total and newstring[0] != '0':\n",
    "        return True\n",
    "    elif total == 0 and newstring[0] == '0' and len(newstring) == 1:\n",
    "        return True\n",
    "    else:\n",
    "        return False\n",
    "\n",
    "crypt = [\"SEND\", \"MORE\", \"MONEY\"]\n",
    "solution = [['O', '0'],\n",
    "            ['M', '1'],\n",
    "            ['Y', '2'],\n",
    "            ['E', '5'],\n",
    "            ['N', '6'],\n",
    "            ['D', '7'],\n",
    "            ['R', '8'],\n",
    "            ['S', '9']]\n",
    "print(isCryptSolution(crypt, solution))"
   ]
  },
  {
   "cell_type": "code",
   "execution_count": 110,
   "metadata": {},
   "outputs": [
    {
     "name": "stdout",
     "output_type": "stream",
     "text": [
      "True\n"
     ]
    }
   ],
   "source": [
    "crypt1 =[\"WASD\", \n",
    "         \"IJKL\", \n",
    "         \"AOPAS\"]\n",
    "solution1 =[[\"W\",\"2\"], \n",
    "            [\"A\",\"0\"], \n",
    "            [\"S\",\"4\"], \n",
    "            [\"D\",\"1\"], \n",
    "            [\"I\",\"5\"], \n",
    "            [\"J\",\"8\"], \n",
    "            [\"K\",\"6\"], \n",
    "            [\"L\",\"3\"], \n",
    "            [\"O\",\"7\"], \n",
    "            [\"P\",\"9\"]]\n",
    "print(isCryptSolution(crypt1, solution1))"
   ]
  },
  {
   "cell_type": "code",
   "execution_count": 213,
   "metadata": {},
   "outputs": [
    {
     "name": "stdout",
     "output_type": "stream",
     "text": [
      "41\n"
     ]
    }
   ],
   "source": [
    "def shapeArea(n):\n",
    "    area = 1\n",
    "    for i in range(2,n+1):\n",
    "        area += (i-1)*4\n",
    "    return area\n",
    "\n",
    "print(shapeArea(5))"
   ]
  },
  {
   "cell_type": "code",
   "execution_count": 230,
   "metadata": {},
   "outputs": [
    {
     "name": "stdout",
     "output_type": "stream",
     "text": [
      "3\n"
     ]
    }
   ],
   "source": [
    "statues = [2,3,5,8]\n",
    "def makeArrayConsecutive2(statues):\n",
    "    return len([i for i in range(min(statues),max(statues)+1) if i not in statues])\n",
    "print(makeArrayConsecutive2(statues))"
   ]
  },
  {
   "cell_type": "code",
   "execution_count": 245,
   "metadata": {},
   "outputs": [
    {
     "name": "stdout",
     "output_type": "stream",
     "text": [
      "False\n"
     ]
    }
   ],
   "source": [
    "def almostIncreasingSequence(sequence):\n",
    "    c=0\n",
    "    for i in range(len(sequence)-1):\n",
    "        if sequence[i] < sequence[i-1]:\n",
    "            c+=1\n",
    "            if (sequence[i] <= sequence[i-2] and sequence[i+1] <= sequence[i-1]):\n",
    "                return False\n",
    "    return c<=1\n",
    "sequence = [1, 2, 1, 2]\n",
    "print(almostIncreasingSequence(sequence))"
   ]
  },
  {
   "cell_type": "code",
   "execution_count": null,
   "metadata": {},
   "outputs": [],
   "source": []
  }
 ],
 "metadata": {
  "kernelspec": {
   "display_name": "Python 3",
   "language": "python",
   "name": "python3"
  },
  "language_info": {
   "codemirror_mode": {
    "name": "ipython",
    "version": 3
   },
   "file_extension": ".py",
   "mimetype": "text/x-python",
   "name": "python",
   "nbconvert_exporter": "python",
   "pygments_lexer": "ipython3",
   "version": "3.7.5"
  }
 },
 "nbformat": 4,
 "nbformat_minor": 4
}
