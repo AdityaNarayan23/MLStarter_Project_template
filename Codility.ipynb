{
 "cells": [
  {
   "cell_type": "markdown",
   "metadata": {},
   "source": [
    "A binary gap within a positive integer N is any maximal sequence of consecutive zeros that is surrounded by ones at both ends in the binary representation of N.\n",
    "\n",
    "For example, number 9 has binary representation 1001 and contains a binary gap of length 2. The number 529 has binary representation 1000010001 and contains two binary gaps: one of length 4 and one of length 3. The number 20 has binary representation 10100 and contains one binary gap of length 1. The number 15 has binary representation 1111 and has no binary gaps. The number 32 has binary representation 100000 and has no binary gaps.\n",
    "\n",
    "Write a function:\n",
    "\n",
    "def solution(N)\n",
    "\n",
    "that, given a positive integer N, returns the length of its longest binary gap. The function should return 0 if N doesn't contain a binary gap.\n",
    "\n",
    "For example, given N = 1041 the function should return 5, because N has binary representation 10000010001 and so its longest binary gap is of length 5. Given N = 32 the function should return 0, because N has binary representation '100000' and thus no binary gaps.\n",
    "\n",
    "Write an efficient algorithm for the following assumptions:\n",
    "\n",
    "N is an integer within the range [1..2,147,483,647]."
   ]
  },
  {
   "cell_type": "code",
   "execution_count": 38,
   "metadata": {},
   "outputs": [
    {
     "data": {
      "text/plain": [
       "5"
      ]
     },
     "execution_count": 38,
     "metadata": {},
     "output_type": "execute_result"
    }
   ],
   "source": [
    "#Binary Gap\n",
    "def solution(N):\n",
    "    # write your code in Python 3.6\n",
    "    # using the \"concept of bit manipulation\" and \"& operation\"\n",
    "    \n",
    "    current_gap = 0\n",
    "    max_gap = 0\n",
    "    \n",
    "    start_counting = False\n",
    "\n",
    "    temp = N\n",
    "    \n",
    "    while temp > 0: \n",
    "        \n",
    "        # case 1\n",
    "        if (temp & 1 == 1): \n",
    "            # case 1-1\n",
    "            if (start_counting == False):\n",
    "                start_counting = True\n",
    "            # case 1-2\n",
    "            elif (start_counting == True):\n",
    "                max_gap = max(max_gap, current_gap)\n",
    "                current_gap = 0 #reset\n",
    "        \n",
    "        # case 2\n",
    "        elif (temp & 1 == 0):\n",
    "            if(start_counting == True):\n",
    "                current_gap += 1\n",
    "        \n",
    "        # shift one bit (every loop)\n",
    "        temp = temp >> 1\n",
    "    \n",
    "    return max_gap\n",
    "\n",
    "solution(1041)"
   ]
  },
  {
   "cell_type": "markdown",
   "metadata": {},
   "source": [
    "An array A consisting of N integers is given. Rotation of the array means that each element is shifted right by one index, and the last element of the array is moved to the first place. For example, the rotation of array A = [3, 8, 9, 7, 6] is [6, 3, 8, 9, 7] (elements are shifted right by one index and 6 is moved to the first place).\n",
    "\n",
    "The goal is to rotate array A K times; that is, each element of A will be shifted to the right K times.\n",
    "\n",
    "Write a function:\n",
    "\n",
    "def solution(A, K)\n",
    "\n",
    "that, given an array A consisting of N integers and an integer K, returns the array A rotated K times.\n",
    "\n",
    "For example, given\n",
    "\n",
    "    A = [3, 8, 9, 7, 6]\n",
    "    K = 3\n",
    "the function should return [9, 7, 6, 3, 8]. Three rotations were made:\n",
    "\n",
    "    [3, 8, 9, 7, 6] -> [6, 3, 8, 9, 7]\n",
    "    [6, 3, 8, 9, 7] -> [7, 6, 3, 8, 9]\n",
    "    [7, 6, 3, 8, 9] -> [9, 7, 6, 3, 8]\n",
    "For another example, given\n",
    "\n",
    "    A = [0, 0, 0]\n",
    "    K = 1\n",
    "the function should return [0, 0, 0]\n",
    "\n",
    "Given\n",
    "\n",
    "    A = [1, 2, 3, 4]\n",
    "    K = 4\n",
    "the function should return [1, 2, 3, 4]\n",
    "\n",
    "Assume that:\n",
    "\n",
    "N and K are integers within the range [0..100];\n",
    "each element of array A is an integer within the range [−1,000..1,000]."
   ]
  },
  {
   "cell_type": "code",
   "execution_count": 37,
   "metadata": {},
   "outputs": [
    {
     "name": "stdout",
     "output_type": "stream",
     "text": [
      "1 [6, 3, 8, 9, 7]\n",
      "2 [7, 6, 3, 8, 9]\n",
      "3 [9, 7, 6, 3, 8]\n",
      "4 [8, 9, 7, 6, 3]\n"
     ]
    }
   ],
   "source": [
    "#cyclic rotation\n",
    "def solution(A, K):\n",
    "    # write your code in Python 3.6\n",
    "    \n",
    "    # initialize array [0, 0, ..., 0] \n",
    "    temp_array = [0] * len(A)\n",
    "    \n",
    "    for index in range( len(A) ) :\n",
    "        new_index = (index + K) % len(A) # new position\n",
    "        temp_array[new_index] = A[index] # set value\n",
    "    \n",
    "    return temp_array\n",
    "\n",
    "print(\"1\",solution([6, 3, 8, 9, 7], 0))\n",
    "print(\"2\",solution([6, 3, 8, 9, 7], 1))\n",
    "print(\"3\",solution([6, 3, 8, 9, 7], 2))\n",
    "print(\"4\",solution([6, 3, 8, 9, 7], 3))"
   ]
  },
  {
   "cell_type": "markdown",
   "metadata": {},
   "source": [
    "A non-empty array A consisting of N integers is given. The array contains an odd number of elements, and each element of the array can be paired with another element that has the same value, except for one element that is left unpaired.\n",
    "\n",
    "For example, in array A such that:\n",
    "\n",
    "  A[0] = 9  A[1] = 3  A[2] = 9\n",
    "  A[3] = 3  A[4] = 9  A[5] = 7\n",
    "  A[6] = 9\n",
    "the elements at indexes 0 and 2 have value 9,\n",
    "the elements at indexes 1 and 3 have value 3,\n",
    "the elements at indexes 4 and 6 have value 9,\n",
    "the element at index 5 has value 7 and is unpaired.\n",
    "Write a function:\n",
    "\n",
    "def solution(A)\n",
    "\n",
    "that, given an array A consisting of N integers fulfilling the above conditions, returns the value of the unpaired element.\n",
    "\n",
    "For example, given array A such that:\n",
    "\n",
    "  A[0] = 9  A[1] = 3  A[2] = 9\n",
    "  A[3] = 3  A[4] = 9  A[5] = 7\n",
    "  A[6] = 9\n",
    "the function should return 7, as explained in the example above.\n",
    "\n",
    "Write an efficient algorithm for the following assumptions:\n",
    "\n",
    "N is an odd integer within the range [1..1,000,000];\n",
    "each element of array A is an integer within the range [1..1,000,000,000];\n",
    "all but one of the values in A occur an even number of times."
   ]
  },
  {
   "cell_type": "code",
   "execution_count": 36,
   "metadata": {},
   "outputs": [
    {
     "name": "stdout",
     "output_type": "stream",
     "text": [
      "1: 7\n"
     ]
    }
   ],
   "source": [
    "#OddOccurrencesInArray\n",
    "def solution(A):\n",
    "    # write your code in Python 3.6\n",
    "    \n",
    "    my_dictionary = {}\n",
    "    odd_element = -1\n",
    "    \n",
    "    # create dictionary\n",
    "    for item in A:\n",
    "        my_dictionary[item] = 0 \n",
    "    \n",
    "    # counting\n",
    "    for item in A:\n",
    "        my_dictionary[item] += 1\n",
    "    \n",
    "    # find odd element\n",
    "    for key in my_dictionary:\n",
    "        if (my_dictionary[key] % 2 != 0):\n",
    "            odd_element = key\n",
    "    \n",
    "    return odd_element\n",
    "\n",
    "print(\"1:\",solution([9, 3, 9, 3, 9, 7, 9]))"
   ]
  },
  {
   "cell_type": "markdown",
   "metadata": {},
   "source": [
    "A small frog wants to get to the other side of the road. The frog is currently located at position X and wants to get to a position greater than or equal to Y. The small frog always jumps a fixed distance, D.\n",
    "\n",
    "Count the minimal number of jumps that the small frog must perform to reach its target.\n",
    "\n",
    "Write a function:\n",
    "\n",
    "def solution(X, Y, D)\n",
    "\n",
    "that, given three integers X, Y and D, returns the minimal number of jumps from position X to a position equal to or greater than Y.\n",
    "\n",
    "For example, given:\n",
    "\n",
    "  X = 10\n",
    "  Y = 85\n",
    "  D = 30\n",
    "the function should return 3, because the frog will be positioned as follows:\n",
    "\n",
    "after the first jump, at position 10 + 30 = 40\n",
    "after the second jump, at position 10 + 30 + 30 = 70\n",
    "after the third jump, at position 10 + 30 + 30 + 30 = 100\n",
    "Write an efficient algorithm for the following assumptions:\n",
    "\n",
    "X, Y and D are integers within the range [1..1,000,000,000];\n",
    "X ≤ Y."
   ]
  },
  {
   "cell_type": "code",
   "execution_count": 43,
   "metadata": {},
   "outputs": [
    {
     "name": "stdout",
     "output_type": "stream",
     "text": [
      "3\n",
      "28\n"
     ]
    }
   ],
   "source": [
    "#frogjump\n",
    "def solution(X,Y,D):\n",
    "    c = 0\n",
    "    while (X < Y):\n",
    "        if (X+D) < Y:\n",
    "            X = X+D\n",
    "            c += 1\n",
    "        else:\n",
    "            return c+1\n",
    "\n",
    "print(solution(10,85,30))\n",
    "print(solution(1,85,3))"
   ]
  },
  {
   "cell_type": "code",
   "execution_count": null,
   "metadata": {},
   "outputs": [],
   "source": [
    "def solution(A):\n",
    "    # write your code in Python 3.6\n",
    "    sum_list = []\n",
    "    for i in range(1,len(A)+1):\n",
    "        x = sum(A[i:])\n",
    "        y = sum(A[:i])\n",
    "        sum_list.append(abs(y - x))\n",
    "    #print(sum_list[:-1])\n",
    "    return min(sum_list[:-1])\n"
   ]
  },
  {
   "cell_type": "code",
   "execution_count": null,
   "metadata": {},
   "outputs": [],
   "source": [
    "def solution(X, A):\n",
    "    # write your code in Python 3.6\n",
    "    unq_set = sorted(set(A))\n",
    "    #print(\"initial\",unq_set)\n",
    "\n",
    "    for i in A:\n",
    "        if i in unq_set:\n",
    "            unq_set.remove(i)\n",
    "            #print(unq_set)\n",
    "        if len(unq_set) == 0:\n",
    "            return i+1\n",
    "    return -1"
   ]
  },
  {
   "cell_type": "code",
   "execution_count": null,
   "metadata": {},
   "outputs": [],
   "source": [
    "def solution(X, A):\n",
    "    # write your code in Python 3.6\n",
    "    \n",
    "    my_set = set()\n",
    "    \n",
    "    for value in range(1, X+1):\n",
    "        my_set.add( value )\n",
    "\n",
    "    for index in range(0, len(A) ):\n",
    "        if A[index] in my_set:\n",
    "            my_set.remove( A[index] )\n",
    "        if my_set == set():\n",
    "            return index\n",
    "    \n",
    "    return -1"
   ]
  },
  {
   "cell_type": "code",
   "execution_count": 49,
   "metadata": {},
   "outputs": [
    {
     "name": "stdout",
     "output_type": "stream",
     "text": [
      "3\n",
      "0\n",
      "4\n",
      "0\n",
      "4\n",
      "0\n",
      "6\n",
      "max 2\n",
      "[2, 2, 2, 2, 2]\n",
      "1\n",
      "2\n",
      "4\n",
      "2\n",
      "4\n",
      "2\n",
      "[3, 2, 2, 4, 2]\n"
     ]
    }
   ],
   "source": [
    "def solution(N, A):\n",
    "    # write your code in Python 3.6\n",
    "    lst = [0] * N\n",
    "    for i in range(len(A)):\n",
    "        print(A[i])\n",
    "        if A[i] < N:\n",
    "            lst[ A[i]-1] += 1\n",
    "            print(lst[A[i]])\n",
    "        else:\n",
    "            print(\"max\",max(lst))\n",
    "            lst = [max(lst)] * N\n",
    "            print(lst)\n",
    "    return lst \n",
    "print(solution(5,[3,4,4,6,1,4,4]))"
   ]
  },
  {
   "cell_type": "code",
   "execution_count": 2,
   "metadata": {},
   "outputs": [
    {
     "name": "stdout",
     "output_type": "stream",
     "text": [
      "4\n",
      "1\n",
      "5\n"
     ]
    }
   ],
   "source": [
    "def solution(A):\n",
    "    # write your code in Python 3.6\n",
    "    set_a = set(A)\n",
    "\n",
    "    if max(A) < 0:\n",
    "        return 1\n",
    "    else:    \n",
    "        for i in range(min(set_a),max(set_a)+1):\n",
    "            if i not in set_a:\n",
    "                return i\n",
    "            else:\n",
    "                set_a.remove(i)\n",
    "        if len(set_a) == 0:\n",
    "                return int(max(A)+1)\n",
    "            \n",
    "print(solution([1,2,3,5]))\n",
    "print(solution([0]))\n",
    "print(solution([1, 3, 6, 4, 1, 2]))"
   ]
  },
  {
   "cell_type": "code",
   "execution_count": 58,
   "metadata": {},
   "outputs": [
    {
     "name": "stdout",
     "output_type": "stream",
     "text": [
      "1\n",
      "0\n",
      "0\n"
     ]
    }
   ],
   "source": [
    "def solution(A):\n",
    "    # write your code in Python 3.6\n",
    "    set_a = set()\n",
    "    for i in range(len(A)):\n",
    "        if A[i] not in set_a:\n",
    "            set_a.add(A[i])\n",
    "        else:\n",
    "            return 0\n",
    "    list_a = list(set_a)\n",
    "    for i in range(len(list_a)):\n",
    "        if i+1 != list_a[i]:\n",
    "            return 0\n",
    "    return 1\n",
    "\n",
    "print(solution([3,2,1]))\n",
    "print(solution([4,2,1]))\n",
    "print(solution([3,2,1,0,-1]))"
   ]
  },
  {
   "cell_type": "code",
   "execution_count": 60,
   "metadata": {},
   "outputs": [
    {
     "name": "stdout",
     "output_type": "stream",
     "text": [
      "3\n",
      "3\n"
     ]
    }
   ],
   "source": [
    "def solution(A, B, K):\n",
    "    # write your code in Python 3.6\n",
    "    c = 0\n",
    "    for i in range(A,B+1):\n",
    "        if i%K == 0: c+=1\n",
    "    return c \n",
    "print(solution(6,11,2))\n",
    "\n",
    "def solution1(A, B, K):\n",
    "    # write your code in Python 3.6\n",
    "    \n",
    "    # need to achieve low complexity O(1)\n",
    "    # using math equation (low complexity)\n",
    "\n",
    "    # number of divisible values smaller than B\n",
    "    num_B = B // K\n",
    "    # note: take \"Math.floor\" which is the basic number\n",
    "    \n",
    "    # number of divisible values smaller than A\n",
    "    num_A = A // K\n",
    "    # note: take \"Math.floor\" which is the basic number\n",
    "    \n",
    "    # number of divisible numbers\n",
    "    num_divisible = num_B - num_A\n",
    "    \n",
    "    # note: plus one (if A % K == 0)\n",
    "    # because \"A\" is also divisble \n",
    "    plus = 0\n",
    "    if A % K ==0:\n",
    "        plus =1\n",
    "    \n",
    "    num_divisible = num_divisible + plus\n",
    "            \n",
    "    return num_divisible\n",
    "\n",
    "print(solution1(6,11,2))"
   ]
  },
  {
   "cell_type": "code",
   "execution_count": 61,
   "metadata": {},
   "outputs": [
    {
     "name": "stdout",
     "output_type": "stream",
     "text": [
      "[1, 2, 1]\n"
     ]
    }
   ],
   "source": [
    "def solution(S, P, Q):\n",
    "    # write your code in Python 3.6\n",
    "    str_lst = list(S)\n",
    "    out_lst = list()\n",
    "    for i in range(len(P)):\n",
    "        str1 = str_lst[P[i]:Q[i]+1]\n",
    "        if 'A' in str1 : out_lst.append(1)\n",
    "        elif'C' in str1 : out_lst.append(2)\n",
    "        elif 'G' in str1 : out_lst.append(3)\n",
    "        elif 'T' in str1 : out_lst.append(4)\n",
    "        else: pass\n",
    "    return out_lst\n",
    "\n",
    "print(solution('CAGCCTA', [1, 3, 0], [4, 5, 6]))"
   ]
  },
  {
   "cell_type": "code",
   "execution_count": 66,
   "metadata": {},
   "outputs": [
    {
     "name": "stdout",
     "output_type": "stream",
     "text": [
      "5\n",
      "6\n",
      "4\n"
     ]
    }
   ],
   "source": [
    "#passingcars\n",
    "def solution(A):\n",
    "    # write your code in Python 3.6\n",
    "    c = list()\n",
    "    for i in range(len(A)):\n",
    "        if A[i] == 0:\n",
    "            c.append(i)\n",
    "    #print(c)\n",
    "    sum = 0\n",
    "    for index in c:\n",
    "        for i in range(index,len(A)):\n",
    "            if (A[i] == 1):\n",
    "                sum += 1\n",
    "    #print(sum)\n",
    "    return sum\n",
    "\n",
    "print(solution([0,1,0,1,1]))\n",
    "print(solution([0,0,0,1,1]))\n",
    "print(solution([0,1,1,1,1]))"
   ]
  },
  {
   "cell_type": "code",
   "execution_count": 85,
   "metadata": {},
   "outputs": [
    {
     "name": "stdout",
     "output_type": "stream",
     "text": [
      "0\n",
      "loop1 break\n",
      "MIN: 2.6666666666666665    Index 0\n",
      "1\n",
      "loop1 break\n",
      "MIN: 2.0    Index 1\n",
      "2\n",
      "loop1 break\n",
      "MIN: 2.0    Index 2\n",
      "3\n",
      "loop1 break\n",
      "MIN: 2.0    Index 3\n",
      "4\n",
      "loop1 break\n",
      "MIN: 1.0    Index 4\n",
      "5\n",
      "loop1 break\n",
      "MIN: 1.0    Index 5\n",
      "loop2 break\n",
      "5\n"
     ]
    }
   ],
   "source": [
    "#A = [1,2,3,4]\n",
    "#print(sum(A[2:4]))\n",
    "\n",
    "def solution(A):\n",
    "    # write your code in Python 3.6\n",
    "    min_avg = float('inf')\n",
    "    for index in range(len(A)-1):\n",
    "        print(index)\n",
    "        for i in range(index+1,len(A)):\n",
    "            #print(sum(A[index:i]))\n",
    "            avg = float(sum(A[index:i])/(i-index))\n",
    "            #print(avg)\n",
    "            if (avg < min_avg): \n",
    "                min_avg = avg\n",
    "                hold = index\n",
    "        print(\"loop1 break\")\n",
    "        print(\"MIN:\",min_avg,'  ','Index',index)\n",
    "    print(\"loop2 break\")\n",
    "    return index\n",
    "print(solution([4,2,2,5,1,5,8]))"
   ]
  },
  {
   "cell_type": "code",
   "execution_count": 88,
   "metadata": {},
   "outputs": [
    {
     "name": "stdout",
     "output_type": "stream",
     "text": [
      "Sorted Array : [-3, -2, 1, 2, 5, 6]\n",
      "Max P1 : 60\n",
      "Max P2 : 36\n",
      "Max Product : 60\n",
      "60\n"
     ]
    }
   ],
   "source": [
    "#maxproduct3\n",
    "def solution(A):\n",
    "    # write your code in Python 3.6\n",
    "    \n",
    "    my_sorted = sorted(A)\n",
    "    print(\"Sorted Array :\",my_sorted)\n",
    "    possible_max_1 = my_sorted[len(A)-1] * my_sorted[len(A)-2] * my_sorted[len(A)-3] \n",
    "    print(\"Max P1 :\",possible_max_1)\n",
    "    possible_max_2 = my_sorted[0] * my_sorted[1] * my_sorted[len(A)-1] \n",
    "    print(\"Max P2 :\",possible_max_2)\n",
    "    \n",
    "    max_product = max(possible_max_1, possible_max_2)\n",
    "    print(\"Max Product :\",max_product)\n",
    "    \n",
    "    return max_product\n",
    "\n",
    "print(solution([-3,1,2,-2,5,6]))"
   ]
  },
  {
   "cell_type": "code",
   "execution_count": 90,
   "metadata": {},
   "outputs": [
    {
     "name": "stdout",
     "output_type": "stream",
     "text": [
      "1\n"
     ]
    }
   ],
   "source": [
    "#triangle\n",
    "def solution(A):\n",
    "    # write your code in Python 3.6\n",
    "    sort_A = sorted(A)\n",
    "    for i in range(len(A)-2):\n",
    "        if sort_A[i] + sort_A[i+1] > sort_A[i+2]:\n",
    "            return 1\n",
    "    return 0\n",
    "print(solution([1,2,3,4,5]))"
   ]
  },
  {
   "cell_type": "code",
   "execution_count": 89,
   "metadata": {},
   "outputs": [
    {
     "name": "stdout",
     "output_type": "stream",
     "text": [
      "1\n",
      "0\n"
     ]
    }
   ],
   "source": [
    "#brackets\n",
    "def solution(S):\n",
    "    # write your code in Python 3.6\n",
    "    my_stack = list()\n",
    "\n",
    "    for char in S:\n",
    "        if char == '[' or char == '{' or char == '(':\n",
    "            my_stack.insert(len(my_stack),char)\n",
    "\n",
    "        if len(my_stack):\n",
    "            if char == ')':\n",
    "                pop_char = my_stack.pop(len(my_stack)-1)\n",
    "                if pop_char != '(': return 0\n",
    "            if char == '}':\n",
    "                pop_char = my_stack.pop(len(my_stack)-1)\n",
    "                if pop_char != '{': return 0\n",
    "            if char == ']':\n",
    "                pop_char = my_stack.pop(len(my_stack)-1)\n",
    "                if pop_char != '[': return 0        \n",
    "\n",
    "    if len(my_stack)!= 0:\n",
    "        return 0\n",
    "    else:\n",
    "        return 1\n",
    "\n",
    "print(solution(\"{[()()]}\"))\n",
    "print(solution(\"([)()]\"))\n"
   ]
  },
  {
   "cell_type": "code",
   "execution_count": 95,
   "metadata": {},
   "outputs": [
    {
     "name": "stdout",
     "output_type": "stream",
     "text": [
      "1\n"
     ]
    }
   ],
   "source": [
    "def solution(A,B):\n",
    "    \n",
    "    fish_living = len(A)\n",
    "    downstream_dir = list()\n",
    "    \n",
    "    for i in range(len(B)) :\n",
    "        if B[i] == 1:\n",
    "            downstream_dir.append(A[i])\n",
    "        else:\n",
    "            while len(downstream_dir) != 0:\n",
    "                pop = downstream_dir.pop(len(downstream_dir)-1)\n",
    "                if pop >= A[i]:\n",
    "                    fish_living -= 1\n",
    "                    downstream_dir.append(pop)\n",
    "                    break\n",
    "                else:\n",
    "                    fish_living -= 1\n",
    "    return fish_living           \n",
    "        \n",
    "A = [4,3,2,1,5]\n",
    "B = [1,1,0,0,0]    \n",
    "print(solution(A,B))\n"
   ]
  },
  {
   "cell_type": "code",
   "execution_count": 96,
   "metadata": {},
   "outputs": [
    {
     "name": "stdout",
     "output_type": "stream",
     "text": [
      "1\n",
      "0\n"
     ]
    }
   ],
   "source": [
    "def solution(S):\n",
    "    # write your code in Python 3.6\n",
    "    brace = list()\n",
    "    for char in S:\n",
    "        if char == '(':\n",
    "            brace.append(char)\n",
    "        else:\n",
    "            if len(brace):\n",
    "                pop_br = brace.pop(len(brace)-1)\n",
    "                if pop_br != '(': return 0\n",
    "            else: return 0\n",
    "    if len(brace) == 0:\n",
    "        return 1\n",
    "    else:\n",
    "        return 0\n",
    "    \n",
    "print(solution(\"(()(())())\"))\n",
    "print(solution(\"())\"))"
   ]
  },
  {
   "cell_type": "code",
   "execution_count": 106,
   "metadata": {},
   "outputs": [
    {
     "name": "stdout",
     "output_type": "stream",
     "text": [
      "2\n"
     ]
    }
   ],
   "source": [
    "def solution(A):\n",
    "    # write your code in Python 3.6\n",
    "    A.sort()\n",
    "    cand = A[len(A) // 2]\n",
    "    c = list()\n",
    "    for i in range(len(A)):\n",
    "        if A[i] == cand:\n",
    "            c.append(i)\n",
    "    if len(c) > len(A) // 2:\n",
    "        return c[0]\n",
    "    else:\n",
    "        return -1\n",
    "\n",
    "print(solution([3, 4, 3, 2, 3, -1, 3, 3]))"
   ]
  },
  {
   "cell_type": "code",
   "execution_count": 108,
   "metadata": {},
   "outputs": [
    {
     "name": "stdout",
     "output_type": "stream",
     "text": [
      "356\n",
      "0\n",
      "23171\n",
      "0\n",
      "21011\n",
      "112\n",
      "21011\n",
      "355\n",
      "21011\n",
      "355\n",
      "21011\n",
      "356\n",
      "21011\n",
      "356\n"
     ]
    }
   ],
   "source": [
    "def solution1(A):\n",
    "    # write your code in Python 3.6\n",
    "    max_p = 0\n",
    "    for i in range(len(A)):\n",
    "        for j in range(i+1,len(A)):\n",
    "            diff = A[j] - A[i]\n",
    "            if diff > max_p:\n",
    "                max_p = diff \n",
    "\n",
    "    return max_p\n",
    "\n",
    "def solution2(A):\n",
    "    min_p = A[0]\n",
    "    max_p = 0\n",
    "    \n",
    "    for i in A:\n",
    "        max_p = max(max_p,i-min_p)\n",
    "        print(max_p)\n",
    "        min_p = min(i,min_p)\n",
    "        print(min_p)\n",
    "    return max_p\n",
    "\n",
    "print(solution1([23171, 21011, 21123, 21366, 21013, 21367]))\n",
    "print(solution2([23171, 21011, 21123, 21366, 21013, 21367]))"
   ]
  },
  {
   "cell_type": "code",
   "execution_count": 122,
   "metadata": {},
   "outputs": [
    {
     "name": "stdout",
     "output_type": "stream",
     "text": [
      "[-6, 0, 2, 3, 4]\n",
      "7\n"
     ]
    }
   ],
   "source": [
    "A = [3, 2, -6, 4, 0]\n",
    "def solution(A):\n",
    "    # write your code in Python 3.6\n",
    "    A.sort()\n",
    "    print(A)\n",
    "    return (sum(A[-2:]))\n",
    "print(solution(A))"
   ]
  },
  {
   "cell_type": "code",
   "execution_count": 124,
   "metadata": {},
   "outputs": [
    {
     "name": "stdout",
     "output_type": "stream",
     "text": [
      "5\n"
     ]
    }
   ],
   "source": [
    "def solution(A):\n",
    "    # write your code in Python 3.6\n",
    "    \n",
    "    # max_value = sys.maxsize\n",
    "    # min_value = -sys.maxsize -1\n",
    "\n",
    "    local_max_sum = A[0]\n",
    "    global_max_sum = A[0]\n",
    "    \n",
    "    for index in range( 1, len(A) ):\n",
    "        # note: be careful about the negative value (we may recount from A[index])\n",
    "        local_max_sum = max( local_max_sum + A[index], A[index] )\n",
    "        global_max_sum = max( global_max_sum, local_max_sum )\n",
    "\n",
    "    # special case: all negtive value(s)\n",
    "    if max(A) < 0:\n",
    "        global_max_sum = max(A)    \n",
    "    \n",
    "    return global_max_sum\n",
    "\n",
    "print(solution([3, 2, -6, 4, 0]))"
   ]
  },
  {
   "cell_type": "code",
   "execution_count": 1,
   "metadata": {},
   "outputs": [
    {
     "name": "stdout",
     "output_type": "stream",
     "text": [
      "8\n"
     ]
    }
   ],
   "source": [
    "import math \n",
    "def solution(N):\n",
    "    # write your code in Python 3.6\n",
    "    my_dict = {}\n",
    "    for n in range(1,int(math.sqrt(N)) + 1):\n",
    "        if N % n == 0:\n",
    "            my_dict[n] = True\n",
    "            an_factor = int(N/n)\n",
    "            my_dict[an_factor] = True\n",
    "    return len(my_dict)\n",
    "\n",
    "print(solution(24))"
   ]
  },
  {
   "cell_type": "code",
   "execution_count": null,
   "metadata": {},
   "outputs": [],
   "source": [
    "#minimum perimeter\n",
    "import math\n",
    "def solution(N):\n",
    "    # write your code in Python 3.6\n",
    "    perm = list()\n",
    "    for i in range(1,int(math.sqrt(N)) + 1):\n",
    "        if (N%i) == 0:\n",
    "            per = 2*(i+(N/i))\n",
    "            perm.append(int(per))\n",
    "    return min(perm)"
   ]
  },
  {
   "cell_type": "code",
   "execution_count": null,
   "metadata": {},
   "outputs": [],
   "source": [
    "#count non divisors\n",
    "def solution(A):\n",
    "    # write your code in Python 3.6\n",
    "    cntr = list()\n",
    "    for i in range(len(A)):\n",
    "        num = A[i]\n",
    "        count = 0\n",
    "        for j in range(len(A)):\n",
    "            if (num%A[j]) != 0:\n",
    "                count += 1\n",
    "        cntr.append(count)\n",
    "    return cntr"
   ]
  },
  {
   "cell_type": "code",
   "execution_count": null,
   "metadata": {},
   "outputs": [],
   "source": [
    "x = [0.00,0.2,0.33,0.43,]"
   ]
  },
  {
   "cell_type": "code",
   "execution_count": 5,
   "metadata": {},
   "outputs": [
    {
     "name": "stdout",
     "output_type": "stream",
     "text": [
      "[[0, 0, 0, 0, 0, 0, 0, 0, 0, 0, 0, 0, 0, 0], [0, 0, 0, 0, 0, 0, 0, 0, 0, 0, 0, 0, 0, 0], [0, 0, 0, 0, 0, 0, 0, 0, 0, 0, 0, 0, 0, 0], [0, 0, 0, 0, 0, 0, 0, 0, 0, 0, 0, 0, 0, 0], [0, 0, 0, 0, 0, 0, 0, 0, 0, 0, 0, 0, 0, 0], [0, 0, 0, 0, 0, 0, 0, 0, 0, 0, 0, 0, 0, 0], [0, 0, 0, 0, 0, 0, 0, 0, 0, 0, 0, 0, 0, 0], [0, 0, 0, 0, 0, 0, 0, 0, 0, 0, 0, 0, 0, 0], [0, 0, 0, 0, 0, 0, 0, 0, 0, 0, 0, 0, 0, 0], [0, 0, 0, 0, 0, 0, 0, 0, 0, 0, 0, 0, 0, 0], [0, 0, 0, 0, 0, 0, 0, 0, 0, 0, 0, 0, 0, 0], [0, 0, 0, 0, 0, 0, 0, 0, 0, 0, 0, 0, 0, 0], [0, 0, 0, 0, 0, 0, 0, 0, 0, 0, 0, 0, 0, 0], [0, 0, 0, 0, 0, 0, 0, 0, 0, 0, 0, 0, 0, 0]]\n",
      "else\n",
      "else\n",
      "else\n",
      "else\n",
      "else\n",
      "else\n",
      "else\n",
      "0\n",
      "else\n",
      "else\n",
      "else\n",
      "else\n",
      "0\n",
      "else\n",
      "else\n",
      "else\n",
      "else\n",
      "else\n",
      "else\n",
      "1\n",
      "0\n",
      "else\n",
      "else\n",
      "else\n",
      "else\n",
      "else\n",
      "else\n",
      "else\n",
      "else\n",
      "0\n",
      "2\n",
      "else\n",
      "else\n",
      "else\n",
      "else\n",
      "else\n",
      "else\n",
      "else\n",
      "else\n",
      "else\n",
      "3\n",
      "else\n",
      "else\n",
      "else\n",
      "else\n",
      "else\n",
      "else\n",
      "else\n",
      "else\n",
      "4\n",
      "else\n",
      "else\n",
      "else\n",
      "else\n",
      "else\n",
      "else\n",
      "else\n",
      "else\n",
      "else\n",
      "else\n",
      "else\n",
      "else\n",
      "else\n",
      "else\n",
      "else\n",
      "else\n",
      "else\n",
      "else\n",
      "else\n",
      "else\n",
      "else\n",
      "else\n",
      "0\n",
      "else\n",
      "else\n",
      "else\n",
      "else\n",
      "else\n",
      "Geeks\n"
     ]
    }
   ],
   "source": [
    "#LogestRepeatedSubstring problem \n",
    "def longestRepeatedSubstring(str):\n",
    " \n",
    "    n = len(str)\n",
    "    LCSRe = [[0 for x in range(n + 1)]\n",
    "                for y in range(n + 1)]\n",
    "    print(LCSRe)\n",
    "    res = \"\" # To store result\n",
    "    res_length = 0 # To store length of result\n",
    " \n",
    "    # building table in bottom-up manner\n",
    "    index = 0\n",
    "    for i in range(1, n + 1):\n",
    "        for j in range(i + 1, n + 1):\n",
    "             \n",
    "            # (j-i) > LCSRe[i-1][j-1] to remove\n",
    "            # overlapping\n",
    "            if (str[i - 1] == str[j - 1] and\n",
    "                LCSRe[i - 1][j - 1] < (j - i)):\n",
    "                print(LCSRe[i - 1][j - 1])\n",
    "                LCSRe[i][j] = LCSRe[i - 1][j - 1] + 1\n",
    "                 \n",
    "                # updating maximum length of the\n",
    "                # substring and updating the finishing\n",
    "                # index of the suffix\n",
    "                if (LCSRe[i][j] > res_length):\n",
    "                    res_length = LCSRe[i][j]\n",
    "                    index = max(i, index)\n",
    "                 \n",
    "            else:\n",
    "                print('else')\n",
    "                LCSRe[i][j] = 0\n",
    " \n",
    "    # If we have non-empty result, then insert\n",
    "    # all characters from first character to\n",
    "    # last character of string\n",
    "    if (res_length > 0):\n",
    "        for i in range(index - res_length + 1,\n",
    "                                    index + 1):\n",
    "            res = res + str[i - 1]\n",
    " \n",
    "    return res\n",
    "\n",
    "str = \"GeeksforGeeks\"\n",
    "print(longestRepeatedSubstring(str)) \n"
   ]
  },
  {
   "cell_type": "code",
   "execution_count": null,
   "metadata": {},
   "outputs": [],
   "source": []
  }
 ],
 "metadata": {
  "kernelspec": {
   "display_name": "Python 3",
   "language": "python",
   "name": "python3"
  },
  "language_info": {
   "codemirror_mode": {
    "name": "ipython",
    "version": 3
   },
   "file_extension": ".py",
   "mimetype": "text/x-python",
   "name": "python",
   "nbconvert_exporter": "python",
   "pygments_lexer": "ipython3",
   "version": "3.7.5"
  }
 },
 "nbformat": 4,
 "nbformat_minor": 4
}
